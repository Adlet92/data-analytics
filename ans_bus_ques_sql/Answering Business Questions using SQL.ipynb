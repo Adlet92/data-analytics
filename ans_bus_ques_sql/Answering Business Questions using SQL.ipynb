{
 "cells": [
  {
   "cell_type": "markdown",
   "metadata": {},
   "source": [
    "# Answering Business Questions using SQL"
   ]
  },
  {
   "cell_type": "markdown",
   "metadata": {},
   "source": [
    "On this project we will make some analysis using SQL to get some vision about our business our database called \" chinook.db \" let us start by connect our data base by the following code"
   ]
  },
  {
   "cell_type": "code",
   "execution_count": 1,
   "metadata": {},
   "outputs": [],
   "source": [
    "import sqlalchemy"
   ]
  },
  {
   "cell_type": "code",
   "execution_count": 2,
   "metadata": {},
   "outputs": [
    {
     "data": {
      "text/plain": [
       "'Connected: @chinook.db'"
      ]
     },
     "execution_count": 2,
     "metadata": {},
     "output_type": "execute_result"
    }
   ],
   "source": [
    "\n",
    "sqlalchemy.create_engine(\"sqlite:///chinook.db\")\n",
    "%load_ext sql\n",
    "%sql sqlite:///chinook.db"
   ]
  },
  {
   "cell_type": "code",
   "execution_count": 3,
   "metadata": {},
   "outputs": [
    {
     "name": "stdout",
     "output_type": "stream",
     "text": [
      " * sqlite:///chinook.db\n",
      "Done.\n"
     ]
    },
    {
     "data": {
      "text/html": [
       "<table>\n",
       "    <tr>\n",
       "        <th>name</th>\n",
       "        <th>type</th>\n",
       "    </tr>\n",
       "    <tr>\n",
       "        <td>album</td>\n",
       "        <td>table</td>\n",
       "    </tr>\n",
       "    <tr>\n",
       "        <td>artist</td>\n",
       "        <td>table</td>\n",
       "    </tr>\n",
       "    <tr>\n",
       "        <td>customer</td>\n",
       "        <td>table</td>\n",
       "    </tr>\n",
       "    <tr>\n",
       "        <td>employee</td>\n",
       "        <td>table</td>\n",
       "    </tr>\n",
       "    <tr>\n",
       "        <td>genre</td>\n",
       "        <td>table</td>\n",
       "    </tr>\n",
       "    <tr>\n",
       "        <td>invoice</td>\n",
       "        <td>table</td>\n",
       "    </tr>\n",
       "    <tr>\n",
       "        <td>invoice_line</td>\n",
       "        <td>table</td>\n",
       "    </tr>\n",
       "    <tr>\n",
       "        <td>media_type</td>\n",
       "        <td>table</td>\n",
       "    </tr>\n",
       "    <tr>\n",
       "        <td>playlist</td>\n",
       "        <td>table</td>\n",
       "    </tr>\n",
       "    <tr>\n",
       "        <td>playlist_track</td>\n",
       "        <td>table</td>\n",
       "    </tr>\n",
       "    <tr>\n",
       "        <td>track</td>\n",
       "        <td>table</td>\n",
       "    </tr>\n",
       "    <tr>\n",
       "        <td>sorting_country</td>\n",
       "        <td>view</td>\n",
       "    </tr>\n",
       "    <tr>\n",
       "        <td>count_customers</td>\n",
       "        <td>view</td>\n",
       "    </tr>\n",
       "    <tr>\n",
       "        <td>countries_group</td>\n",
       "        <td>view</td>\n",
       "    </tr>\n",
       "    <tr>\n",
       "        <td>cnt_group</td>\n",
       "        <td>view</td>\n",
       "    </tr>\n",
       "    <tr>\n",
       "        <td>c_group</td>\n",
       "        <td>view</td>\n",
       "    </tr>\n",
       "    <tr>\n",
       "        <td>ct_group</td>\n",
       "        <td>view</td>\n",
       "    </tr>\n",
       "    <tr>\n",
       "        <td>c1_group</td>\n",
       "        <td>view</td>\n",
       "    </tr>\n",
       "    <tr>\n",
       "        <td>c2_group</td>\n",
       "        <td>view</td>\n",
       "    </tr>\n",
       "    <tr>\n",
       "        <td>c3_group</td>\n",
       "        <td>view</td>\n",
       "    </tr>\n",
       "    <tr>\n",
       "        <td>c4_group</td>\n",
       "        <td>view</td>\n",
       "    </tr>\n",
       "    <tr>\n",
       "        <td>c5_group</td>\n",
       "        <td>view</td>\n",
       "    </tr>\n",
       "    <tr>\n",
       "        <td>c6_group</td>\n",
       "        <td>view</td>\n",
       "    </tr>\n",
       "    <tr>\n",
       "        <td>not_sold</td>\n",
       "        <td>view</td>\n",
       "    </tr>\n",
       "    <tr>\n",
       "        <td>tp</td>\n",
       "        <td>view</td>\n",
       "    </tr>\n",
       "</table>"
      ],
      "text/plain": [
       "[('album', 'table'),\n",
       " ('artist', 'table'),\n",
       " ('customer', 'table'),\n",
       " ('employee', 'table'),\n",
       " ('genre', 'table'),\n",
       " ('invoice', 'table'),\n",
       " ('invoice_line', 'table'),\n",
       " ('media_type', 'table'),\n",
       " ('playlist', 'table'),\n",
       " ('playlist_track', 'table'),\n",
       " ('track', 'table'),\n",
       " ('sorting_country', 'view'),\n",
       " ('count_customers', 'view'),\n",
       " ('countries_group', 'view'),\n",
       " ('cnt_group', 'view'),\n",
       " ('c_group', 'view'),\n",
       " ('ct_group', 'view'),\n",
       " ('c1_group', 'view'),\n",
       " ('c2_group', 'view'),\n",
       " ('c3_group', 'view'),\n",
       " ('c4_group', 'view'),\n",
       " ('c5_group', 'view'),\n",
       " ('c6_group', 'view'),\n",
       " ('not_sold', 'view'),\n",
       " ('tp', 'view')]"
      ]
     },
     "execution_count": 3,
     "metadata": {},
     "output_type": "execute_result"
    }
   ],
   "source": [
    "%%sql\n",
    "SELECT \n",
    "    name, \n",
    "    type\n",
    "FROM sqlite_master\n",
    "WHERE type IN (\"table\", \"view\");"
   ]
  },
  {
   "cell_type": "markdown",
   "metadata": {},
   "source": [
    "I will need to write a query to find out which genres sell the most tracks in the USA and write up a summary of findings."
   ]
  },
  {
   "cell_type": "code",
   "execution_count": 4,
   "metadata": {},
   "outputs": [
    {
     "name": "stdout",
     "output_type": "stream",
     "text": [
      " * sqlite:///chinook.db\n",
      "Done.\n"
     ]
    },
    {
     "data": {
      "text/html": [
       "<table>\n",
       "    <tr>\n",
       "        <th>genre</th>\n",
       "        <th>tracks_sold</th>\n",
       "        <th>percentage</th>\n",
       "    </tr>\n",
       "    <tr>\n",
       "        <td>Rock</td>\n",
       "        <td>561</td>\n",
       "        <td>0.5337773549000951</td>\n",
       "    </tr>\n",
       "    <tr>\n",
       "        <td>Alternative &amp; Punk</td>\n",
       "        <td>130</td>\n",
       "        <td>0.12369172216936251</td>\n",
       "    </tr>\n",
       "    <tr>\n",
       "        <td>Metal</td>\n",
       "        <td>124</td>\n",
       "        <td>0.11798287345385347</td>\n",
       "    </tr>\n",
       "    <tr>\n",
       "        <td>R&amp;B/Soul</td>\n",
       "        <td>53</td>\n",
       "        <td>0.05042816365366318</td>\n",
       "    </tr>\n",
       "    <tr>\n",
       "        <td>Blues</td>\n",
       "        <td>36</td>\n",
       "        <td>0.03425309229305423</td>\n",
       "    </tr>\n",
       "    <tr>\n",
       "        <td>Alternative</td>\n",
       "        <td>35</td>\n",
       "        <td>0.03330161750713606</td>\n",
       "    </tr>\n",
       "    <tr>\n",
       "        <td>Pop</td>\n",
       "        <td>22</td>\n",
       "        <td>0.02093244529019981</td>\n",
       "    </tr>\n",
       "    <tr>\n",
       "        <td>Latin</td>\n",
       "        <td>22</td>\n",
       "        <td>0.02093244529019981</td>\n",
       "    </tr>\n",
       "    <tr>\n",
       "        <td>Hip Hop/Rap</td>\n",
       "        <td>20</td>\n",
       "        <td>0.019029495718363463</td>\n",
       "    </tr>\n",
       "    <tr>\n",
       "        <td>Jazz</td>\n",
       "        <td>14</td>\n",
       "        <td>0.013320647002854425</td>\n",
       "    </tr>\n",
       "    <tr>\n",
       "        <td>Easy Listening</td>\n",
       "        <td>13</td>\n",
       "        <td>0.012369172216936251</td>\n",
       "    </tr>\n",
       "    <tr>\n",
       "        <td>Reggae</td>\n",
       "        <td>6</td>\n",
       "        <td>0.005708848715509039</td>\n",
       "    </tr>\n",
       "    <tr>\n",
       "        <td>Electronica/Dance</td>\n",
       "        <td>5</td>\n",
       "        <td>0.004757373929590866</td>\n",
       "    </tr>\n",
       "    <tr>\n",
       "        <td>Classical</td>\n",
       "        <td>4</td>\n",
       "        <td>0.003805899143672693</td>\n",
       "    </tr>\n",
       "    <tr>\n",
       "        <td>Heavy Metal</td>\n",
       "        <td>3</td>\n",
       "        <td>0.0028544243577545195</td>\n",
       "    </tr>\n",
       "    <tr>\n",
       "        <td>Soundtrack</td>\n",
       "        <td>2</td>\n",
       "        <td>0.0019029495718363464</td>\n",
       "    </tr>\n",
       "    <tr>\n",
       "        <td>TV Shows</td>\n",
       "        <td>1</td>\n",
       "        <td>0.0009514747859181732</td>\n",
       "    </tr>\n",
       "</table>"
      ],
      "text/plain": [
       "[('Rock', 561, 0.5337773549000951),\n",
       " ('Alternative & Punk', 130, 0.12369172216936251),\n",
       " ('Metal', 124, 0.11798287345385347),\n",
       " ('R&B/Soul', 53, 0.05042816365366318),\n",
       " ('Blues', 36, 0.03425309229305423),\n",
       " ('Alternative', 35, 0.03330161750713606),\n",
       " ('Pop', 22, 0.02093244529019981),\n",
       " ('Latin', 22, 0.02093244529019981),\n",
       " ('Hip Hop/Rap', 20, 0.019029495718363463),\n",
       " ('Jazz', 14, 0.013320647002854425),\n",
       " ('Easy Listening', 13, 0.012369172216936251),\n",
       " ('Reggae', 6, 0.005708848715509039),\n",
       " ('Electronica/Dance', 5, 0.004757373929590866),\n",
       " ('Classical', 4, 0.003805899143672693),\n",
       " ('Heavy Metal', 3, 0.0028544243577545195),\n",
       " ('Soundtrack', 2, 0.0019029495718363464),\n",
       " ('TV Shows', 1, 0.0009514747859181732)]"
      ]
     },
     "execution_count": 4,
     "metadata": {},
     "output_type": "execute_result"
    }
   ],
   "source": [
    "%%sql\n",
    "WITH total_sold AS (\n",
    "SELECT COUNT(*) tracks_sold\n",
    "  FROM customer c\n",
    " INNER JOIN invoice i ON i.customer_id = c.customer_id AND c.country = 'USA'\n",
    " INNER JOIN invoice_line il ON il.invoice_id = i.invoice_id\n",
    ")\n",
    "\n",
    "SELECT g.name genre, \n",
    "       COUNT(*) tracks_sold, \n",
    "       COUNT(*) * 1.0 / (SELECT COUNT(*) tracks_sold\n",
    "                         FROM customer c \n",
    "                         INNER JOIN invoice i ON i.customer_id = c.customer_id AND c.country = 'USA'\n",
    "                         INNER JOIN invoice_line il ON il.invoice_id = i.invoice_id) percentage\n",
    "FROM customer c\n",
    "INNER JOIN invoice i ON i.customer_id = c.customer_id AND c.country = 'USA'\n",
    "INNER JOIN invoice_line il ON il.invoice_id = i.invoice_id\n",
    "INNER JOIN track t ON t.track_id = il.track_id\n",
    "INNER JOIN genre g ON g.genre_id = t.genre_id\n",
    "GROUP BY genre\n",
    "ORDER BY 2 DESC;\n"
   ]
  },
  {
   "cell_type": "markdown",
   "metadata": {},
   "source": [
    "According to our observe we can see that 3 genres: Rock, Alternative & Punk, Metal are the most popular in USA. Moreover we should notice that Rock genre alone accounts for **53%** of sales"
   ]
  },
  {
   "cell_type": "markdown",
   "metadata": {},
   "source": [
    "Each customer for the Chinook store gets assigned to a sales support agent within the company when they first make a purchase. I have been asked to analyze the purchases of customers belonging to each employee to see if any sales support agent is performing either better or worse than the others."
   ]
  },
  {
   "cell_type": "code",
   "execution_count": 5,
   "metadata": {},
   "outputs": [
    {
     "name": "stdout",
     "output_type": "stream",
     "text": [
      " * sqlite:///chinook.db\n",
      "Done.\n"
     ]
    },
    {
     "data": {
      "text/html": [
       "<table>\n",
       "    <tr>\n",
       "        <th>employee</th>\n",
       "        <th>total_sales</th>\n",
       "    </tr>\n",
       "    <tr>\n",
       "        <td>Jane Peacock</td>\n",
       "        <td>1731.51</td>\n",
       "    </tr>\n",
       "    <tr>\n",
       "        <td>Margaret Park</td>\n",
       "        <td>1584.0</td>\n",
       "    </tr>\n",
       "    <tr>\n",
       "        <td>Steve Johnson</td>\n",
       "        <td>1393.92</td>\n",
       "    </tr>\n",
       "</table>"
      ],
      "text/plain": [
       "[('Jane Peacock', 1731.51),\n",
       " ('Margaret Park', 1584.0),\n",
       " ('Steve Johnson', 1393.92)]"
      ]
     },
     "execution_count": 5,
     "metadata": {},
     "output_type": "execute_result"
    }
   ],
   "source": [
    "%%sql\n",
    "    SELECT e.first_name || \" \" || e.last_name employee, ROUND(SUM(i.total), 2) total_sales\n",
    "      FROM customer c\n",
    "INNER JOIN invoice i ON i.customer_id = c.customer_id\n",
    "INNER JOIN employee e ON e.employee_id = c.support_rep_id\n",
    "  GROUP BY 1\n",
    "  ORDER BY 2 DESC;"
   ]
  },
  {
   "cell_type": "markdown",
   "metadata": {},
   "source": [
    "According to analyze the purchases of customers belonging to each employee we see Jane Peacock is the top and there is 20% difference between top and bottom employees."
   ]
  },
  {
   "cell_type": "markdown",
   "metadata": {},
   "source": [
    "Our next task is to write a query that collects data on purchases from different countries and where a country has only one customer, collect them into an \"Other\" group.\n",
    "<br>\n",
    "The results should be sorted by the total sales from highest to lowest, with the \"Other\" group at the very bottom.\n",
    "<br>\n",
    "For each country we should include:\n",
    "<br>\n",
    "total number of customers\n",
    "<br>\n",
    "total value of sales\n",
    "<br>\n",
    "average value of sales per customer\n",
    "<br>\n",
    "average order value"
   ]
  },
  {
   "cell_type": "code",
   "execution_count": 10,
   "metadata": {},
   "outputs": [
    {
     "name": "stdout",
     "output_type": "stream",
     "text": [
      " * sqlite:///chinook.db\n",
      "Done.\n"
     ]
    },
    {
     "data": {
      "text/html": [
       "<table>\n",
       "    <tr>\n",
       "        <th>country</th>\n",
       "        <th>total_num_of_customers</th>\n",
       "        <th>total_sales</th>\n",
       "        <th>average_order</th>\n",
       "        <th>sales_avg_customer</th>\n",
       "    </tr>\n",
       "    <tr>\n",
       "        <td>USA</td>\n",
       "        <td>13</td>\n",
       "        <td>1040.490000000008</td>\n",
       "        <td>7.942671755725252</td>\n",
       "        <td>80.03769230769292</td>\n",
       "    </tr>\n",
       "    <tr>\n",
       "        <td>Canada</td>\n",
       "        <td>8</td>\n",
       "        <td>535.5900000000034</td>\n",
       "        <td>7.047236842105309</td>\n",
       "        <td>66.94875000000043</td>\n",
       "    </tr>\n",
       "    <tr>\n",
       "        <td>Brazil</td>\n",
       "        <td>5</td>\n",
       "        <td>427.68000000000245</td>\n",
       "        <td>7.011147540983647</td>\n",
       "        <td>85.53600000000048</td>\n",
       "    </tr>\n",
       "    <tr>\n",
       "        <td>France</td>\n",
       "        <td>5</td>\n",
       "        <td>389.0700000000021</td>\n",
       "        <td>7.781400000000042</td>\n",
       "        <td>77.81400000000042</td>\n",
       "    </tr>\n",
       "    <tr>\n",
       "        <td>Germany</td>\n",
       "        <td>4</td>\n",
       "        <td>334.6200000000016</td>\n",
       "        <td>8.161463414634186</td>\n",
       "        <td>83.6550000000004</td>\n",
       "    </tr>\n",
       "    <tr>\n",
       "        <td>Czech Republic</td>\n",
       "        <td>2</td>\n",
       "        <td>273.24000000000103</td>\n",
       "        <td>9.108000000000034</td>\n",
       "        <td>136.62000000000052</td>\n",
       "    </tr>\n",
       "    <tr>\n",
       "        <td>United Kingdom</td>\n",
       "        <td>3</td>\n",
       "        <td>245.52000000000078</td>\n",
       "        <td>8.768571428571457</td>\n",
       "        <td>81.84000000000026</td>\n",
       "    </tr>\n",
       "    <tr>\n",
       "        <td>Portugal</td>\n",
       "        <td>2</td>\n",
       "        <td>185.13000000000022</td>\n",
       "        <td>6.3837931034482835</td>\n",
       "        <td>92.56500000000011</td>\n",
       "    </tr>\n",
       "    <tr>\n",
       "        <td>India</td>\n",
       "        <td>2</td>\n",
       "        <td>183.1500000000002</td>\n",
       "        <td>8.72142857142858</td>\n",
       "        <td>91.5750000000001</td>\n",
       "    </tr>\n",
       "    <tr>\n",
       "        <td>Other</td>\n",
       "        <td>15</td>\n",
       "        <td>1094.9400000000085</td>\n",
       "        <td>7.448571428571486</td>\n",
       "        <td>72.99600000000056</td>\n",
       "    </tr>\n",
       "</table>"
      ],
      "text/plain": [
       "[('USA', 13, 1040.490000000008, 7.942671755725252, 80.03769230769292),\n",
       " ('Canada', 8, 535.5900000000034, 7.047236842105309, 66.94875000000043),\n",
       " ('Brazil', 5, 427.68000000000245, 7.011147540983647, 85.53600000000048),\n",
       " ('France', 5, 389.0700000000021, 7.781400000000042, 77.81400000000042),\n",
       " ('Germany', 4, 334.6200000000016, 8.161463414634186, 83.6550000000004),\n",
       " ('Czech Republic', 2, 273.24000000000103, 9.108000000000034, 136.62000000000052),\n",
       " ('United Kingdom', 3, 245.52000000000078, 8.768571428571457, 81.84000000000026),\n",
       " ('Portugal', 2, 185.13000000000022, 6.3837931034482835, 92.56500000000011),\n",
       " ('India', 2, 183.1500000000002, 8.72142857142858, 91.5750000000001),\n",
       " ('Other', 15, 1094.9400000000085, 7.448571428571486, 72.99600000000056)]"
      ]
     },
     "execution_count": 10,
     "metadata": {},
     "output_type": "execute_result"
    }
   ],
   "source": [
    "%%sql\n",
    "WITH country_or_other AS\n",
    "    (\n",
    "     SELECT\n",
    "       CASE\n",
    "           WHEN (\n",
    "                 SELECT COUNT(*)\n",
    "                 FROM customer\n",
    "                 WHERE country = c.country\n",
    "                ) = 1 THEN \"Other\"\n",
    "           ELSE c.country\n",
    "       END AS country,\n",
    "       c.customer_id,\n",
    "       il.*\n",
    "     FROM invoice_line il\n",
    "     INNER JOIN invoice i ON i.invoice_id = il.invoice_id\n",
    "     INNER JOIN customer c ON c.customer_id = i.customer_id\n",
    "    )\n",
    "\n",
    "SELECT\n",
    "    country,\n",
    "    customers total_num_of_customers,\n",
    "    total_sales,\n",
    "    average_order,\n",
    "    sales_avg_customer\n",
    "FROM\n",
    "    (\n",
    "    SELECT\n",
    "        country,\n",
    "        count(DISTINCT customer_id) customers,\n",
    "        SUM(unit_price) total_sales,\n",
    "        SUM(unit_price) / COUNT(DISTINCT customer_id) sales_avg_customer,\n",
    "        SUM(unit_price) / COUNT(DISTINCT invoice_id) average_order,\n",
    "        CASE\n",
    "            WHEN country = \"Other\" THEN 1\n",
    "            ELSE 0\n",
    "        END AS sort\n",
    "    FROM country_or_other\n",
    "    GROUP BY country\n",
    "    ORDER BY sort ASC, total_sales DESC\n",
    "    );"
   ]
  },
  {
   "cell_type": "markdown",
   "metadata": {},
   "source": [
    "FROM above we find that:\n",
    "\n",
    "- USA have the maximum of our sales with total sales 1040 taking about 22% of our sales , but we have about 13 customers so our sales average per customer about 80 with sales average per order 7.94.\n",
    "- Czech Republic have the Maximum sales average per customer 136.62 and by order 9.11 although the it take only 6% of our sales , so we can increase our sales on it by increasing number of customers\n",
    "- also on United Kingdom, Portugal & India we have an opportunity to increasing our customers by increasing our sales there as sales average per customer & average order also is better than USA except average order in portugal."
   ]
  },
  {
   "cell_type": "code",
   "execution_count": 13,
   "metadata": {},
   "outputs": [
    {
     "name": "stdout",
     "output_type": "stream",
     "text": [
      " * sqlite:///chinook.db\n",
      "Done.\n"
     ]
    },
    {
     "data": {
      "text/html": [
       "<table>\n",
       "    <tr>\n",
       "        <th>album_purchase</th>\n",
       "        <th>number_of_invoices</th>\n",
       "        <th>percent</th>\n",
       "    </tr>\n",
       "    <tr>\n",
       "        <td>no</td>\n",
       "        <td>500</td>\n",
       "        <td>0.8143322475570033</td>\n",
       "    </tr>\n",
       "    <tr>\n",
       "        <td>yes</td>\n",
       "        <td>114</td>\n",
       "        <td>0.18566775244299674</td>\n",
       "    </tr>\n",
       "</table>"
      ],
      "text/plain": [
       "[('no', 500, 0.8143322475570033), ('yes', 114, 0.18566775244299674)]"
      ]
     },
     "execution_count": 13,
     "metadata": {},
     "output_type": "execute_result"
    }
   ],
   "source": [
    "%%sql \n",
    "WITH \n",
    "    invoice_first_track AS \n",
    "    (\n",
    "        SELECT \n",
    "            il.invoice_id,\n",
    "            MIN(il.track_id) first_track_id\n",
    "        FROM invoice_line il \n",
    "        GROUP BY 1\n",
    "    )\n",
    "SELECT \n",
    "        album_purchase,\n",
    "        COUNT(invoice_id) number_of_invoices,\n",
    "        CAST(COUNT(invoice_id) AS FLOAT) / (\n",
    "                                                SELECT COUNT(*) FROM invoice\n",
    "                                          ) percent\n",
    "FROM (\n",
    "        SELECT \n",
    "            ift.*,\n",
    "            CASE \n",
    "                WHEN (\n",
    "                        SELECT t.track_id FROM track t\n",
    "                        WHERE t.album_id = (\n",
    "                                                SELECT t2.album_id FROM track t2\n",
    "                                                WHERE t2.track_id = ift.first_track_id\n",
    "                                           )\n",
    "                        EXCEPT \n",
    "                        \n",
    "                        SELECT il2.track_id FROM invoice_line il2\n",
    "                        WHERE il2.invoice_id = ift.invoice_id\n",
    "                     ) IS NULL\n",
    "                AND \n",
    "                    (\n",
    "                        SELECT il2.track_id FROM invoice_line il2\n",
    "                        WHERE il2.invoice_id = ift.invoice_id\n",
    "                        \n",
    "                        EXCEPT \n",
    "                        \n",
    "                        SELECT t.track_id FROM track t \n",
    "                        WHERE t.album_id = (\n",
    "                                                SELECT t2.album_id FROM track t2\n",
    "                                                WHERE t2.track_id = ift.first_track_id\n",
    "                                           )\n",
    "                    \n",
    "                    ) IS NULL \n",
    "                THEN 'yes'\n",
    "                ELSE 'no'\n",
    "            END AS 'album_purchase'\n",
    "        FROM invoice_first_track ift\n",
    "     )\n",
    "GROUP BY album_purchase;"
   ]
  },
  {
   "cell_type": "markdown",
   "metadata": {},
   "source": [
    "Also we can see purchase depends on invidual tracks more the album by about 62.8%.\n",
    "\n",
    "Let's find which artist is used in the most playlists?"
   ]
  },
  {
   "cell_type": "code",
   "execution_count": 14,
   "metadata": {},
   "outputs": [
    {
     "name": "stdout",
     "output_type": "stream",
     "text": [
      " * sqlite:///chinook.db\n",
      "Done.\n"
     ]
    },
    {
     "data": {
      "text/html": [
       "<table>\n",
       "    <tr>\n",
       "        <th>artist_id</th>\n",
       "        <th>artist_name</th>\n",
       "        <th>most_artist</th>\n",
       "    </tr>\n",
       "    <tr>\n",
       "        <td>90</td>\n",
       "        <td>Iron Maiden</td>\n",
       "        <td>516</td>\n",
       "    </tr>\n",
       "    <tr>\n",
       "        <td>150</td>\n",
       "        <td>U2</td>\n",
       "        <td>333</td>\n",
       "    </tr>\n",
       "    <tr>\n",
       "        <td>50</td>\n",
       "        <td>Metallica</td>\n",
       "        <td>296</td>\n",
       "    </tr>\n",
       "    <tr>\n",
       "        <td>22</td>\n",
       "        <td>Led Zeppelin</td>\n",
       "        <td>252</td>\n",
       "    </tr>\n",
       "    <tr>\n",
       "        <td>58</td>\n",
       "        <td>Deep Purple</td>\n",
       "        <td>226</td>\n",
       "    </tr>\n",
       "</table>"
      ],
      "text/plain": [
       "[(90, 'Iron Maiden', 516),\n",
       " (150, 'U2', 333),\n",
       " (50, 'Metallica', 296),\n",
       " (22, 'Led Zeppelin', 252),\n",
       " (58, 'Deep Purple', 226)]"
      ]
     },
     "execution_count": 14,
     "metadata": {},
     "output_type": "execute_result"
    }
   ],
   "source": [
    "%%sql \n",
    "WITH \n",
    "    playlist_artist AS \n",
    "    (\n",
    "        SELECT \n",
    "            pt.playlist_id,\n",
    "            pt.track_id,\n",
    "            t.album_id,\n",
    "            al.artist_id\n",
    "        FROM playlist_track pt \n",
    "        INNER JOIN track t ON t.track_id = pt.track_id\n",
    "        INNER JOIN album al ON al.album_id = t.album_id\n",
    "        ORDER BY al.artist_id\n",
    "    )\n",
    "SELECT \n",
    "    ar.artist_id,\n",
    "    ar.name artist_name,\n",
    "    COUNT(plar.track_id) most_artist\n",
    "FROM artist ar \n",
    "INNER JOIN playlist_artist plar ON plar.artist_id = ar.artist_id\n",
    "GROUP BY ar.artist_id\n",
    "ORDER BY 3 DESC,2\n",
    "LIMIT 5;"
   ]
  },
  {
   "cell_type": "markdown",
   "metadata": {},
   "source": [
    "From table above we can explore that artist in most of the playlist is Iron Maiden. He is in playlists with 516 tracks, but be careful that same track may be found on different playlists.\n",
    "\n",
    "So now let us to move to another question:\n",
    "How many tracks were purchased vs not purchased?"
   ]
  },
  {
   "cell_type": "code",
   "execution_count": 15,
   "metadata": {},
   "outputs": [
    {
     "name": "stdout",
     "output_type": "stream",
     "text": [
      " * sqlite:///chinook.db\n",
      "Done.\n"
     ]
    },
    {
     "data": {
      "text/html": [
       "<table>\n",
       "    <tr>\n",
       "        <th>purchased_track</th>\n",
       "        <th>number_of_tracks</th>\n",
       "        <th>category%</th>\n",
       "    </tr>\n",
       "    <tr>\n",
       "        <td>yes</td>\n",
       "        <td>1806</td>\n",
       "        <td>0.52</td>\n",
       "    </tr>\n",
       "    <tr>\n",
       "        <td>no</td>\n",
       "        <td>1697</td>\n",
       "        <td>0.48</td>\n",
       "    </tr>\n",
       "</table>"
      ],
      "text/plain": [
       "[('yes', 1806, 0.52), ('no', 1697, 0.48)]"
      ]
     },
     "execution_count": 15,
     "metadata": {},
     "output_type": "execute_result"
    }
   ],
   "source": [
    "%%sql \n",
    "WITH \n",
    "    artist_album_tracks AS \n",
    "    (\n",
    "        SELECT\n",
    "            al.artist_id,\n",
    "             t.album_id,\n",
    "            t.track_id        \n",
    "        FROM track t \n",
    "        INNER JOIN album al ON al.album_id = t.album_id  \n",
    "        ORDER BY 1,2\n",
    "    ),\n",
    "    purchased_tracks AS \n",
    "    (\n",
    "        SELECT \n",
    "            DISTINCT(t.track_id) track_id\n",
    "            FROM track t \n",
    "            INNER JOIN invoice_line il ON il.track_id = t.track_id\n",
    "            ORDER BY 1\n",
    "    ),\n",
    "    tracks_purchasing_category\n",
    "    AS(\n",
    "        SELECT \n",
    "            aralt.*,\n",
    "            CASE \n",
    "                WHEN (\n",
    "                        SELECT t.track_id FROM track t\n",
    "                        WHERE  t.track_id = aralt.track_id\n",
    "                        EXCEPT \n",
    "                        SELECT pt.track_id FROM purchased_tracks pt\n",
    "                     ) IS NULL \n",
    "                THEN 'yes'\n",
    "                ELSE 'no'\n",
    "            END AS 'purchased_track'\n",
    "        FROM artist_album_tracks aralt\n",
    "    )\n",
    "\n",
    "SELECT \n",
    "    tpc.purchased_track,\n",
    "    COUNT(tpc.track_id) number_of_tracks,\n",
    "    ROUND(CAST(COUNT(tpc.track_id) AS FLOAT)/(SELECT CAST(COUNT(tpc.track_id) AS FLOAT) FROM tracks_purchasing_category tpc),2) 'category%'\n",
    "FROM tracks_purchasing_category tpc\n",
    "GROUP BY 1\n",
    "ORDER BY 2 DESC;"
   ]
  },
  {
   "cell_type": "markdown",
   "metadata": {},
   "source": [
    "From above we can find that 52% of tracks have been purchased and 48% of tracks not purchased.\n",
    "\n",
    "Let's now answer to the next question:\n",
    "<strong>Do protected vs non-protected media types have an effect on popularity?</strong>"
   ]
  },
  {
   "cell_type": "code",
   "execution_count": 16,
   "metadata": {},
   "outputs": [
    {
     "name": "stdout",
     "output_type": "stream",
     "text": [
      " * sqlite:///chinook.db\n",
      "Done.\n"
     ]
    },
    {
     "data": {
      "text/plain": [
       "[]"
      ]
     },
     "execution_count": 16,
     "metadata": {},
     "output_type": "execute_result"
    }
   ],
   "source": [
    "%%sql\n",
    "CREATE VIEW protected_status AS\n",
    "SELECT * ,\n",
    "    CASE \n",
    "        WHEN\n",
    "            name LIKE '%Protected%' \n",
    "                THEN 'protected'\n",
    "        ELSE\n",
    "            'unprotected'\n",
    "    END AS status\n",
    "FROM media_type"
   ]
  },
  {
   "cell_type": "code",
   "execution_count": 17,
   "metadata": {},
   "outputs": [
    {
     "name": "stdout",
     "output_type": "stream",
     "text": [
      " * sqlite:///chinook.db\n",
      "Done.\n"
     ]
    },
    {
     "data": {
      "text/html": [
       "<table>\n",
       "    <tr>\n",
       "        <th>media_type_id</th>\n",
       "        <th>name</th>\n",
       "        <th>status</th>\n",
       "    </tr>\n",
       "    <tr>\n",
       "        <td>1</td>\n",
       "        <td>MPEG audio file</td>\n",
       "        <td>unprotected</td>\n",
       "    </tr>\n",
       "    <tr>\n",
       "        <td>2</td>\n",
       "        <td>Protected AAC audio file</td>\n",
       "        <td>protected</td>\n",
       "    </tr>\n",
       "    <tr>\n",
       "        <td>3</td>\n",
       "        <td>Protected MPEG-4 video file</td>\n",
       "        <td>protected</td>\n",
       "    </tr>\n",
       "    <tr>\n",
       "        <td>4</td>\n",
       "        <td>Purchased AAC audio file</td>\n",
       "        <td>unprotected</td>\n",
       "    </tr>\n",
       "    <tr>\n",
       "        <td>5</td>\n",
       "        <td>AAC audio file</td>\n",
       "        <td>unprotected</td>\n",
       "    </tr>\n",
       "</table>"
      ],
      "text/plain": [
       "[(1, 'MPEG audio file', 'unprotected'),\n",
       " (2, 'Protected AAC audio file', 'protected'),\n",
       " (3, 'Protected MPEG-4 video file', 'protected'),\n",
       " (4, 'Purchased AAC audio file', 'unprotected'),\n",
       " (5, 'AAC audio file', 'unprotected')]"
      ]
     },
     "execution_count": 17,
     "metadata": {},
     "output_type": "execute_result"
    }
   ],
   "source": [
    "%%sql\n",
    "SELECT * FROM protected_status"
   ]
  },
  {
   "cell_type": "code",
   "execution_count": 18,
   "metadata": {},
   "outputs": [
    {
     "name": "stdout",
     "output_type": "stream",
     "text": [
      " * sqlite:///chinook.db\n",
      "Done.\n"
     ]
    },
    {
     "data": {
      "text/html": [
       "<table>\n",
       "    <tr>\n",
       "        <th>status</th>\n",
       "        <th>count</th>\n",
       "        <th>percentage_sold_based_on_media_type</th>\n",
       "    </tr>\n",
       "    <tr>\n",
       "        <td>protected</td>\n",
       "        <td>442</td>\n",
       "        <td>9.0</td>\n",
       "    </tr>\n",
       "    <tr>\n",
       "        <td>unprotected</td>\n",
       "        <td>4315</td>\n",
       "        <td>91.0</td>\n",
       "    </tr>\n",
       "</table>"
      ],
      "text/plain": [
       "[('protected', 442, 9.0), ('unprotected', 4315, 91.0)]"
      ]
     },
     "execution_count": 18,
     "metadata": {},
     "output_type": "execute_result"
    }
   ],
   "source": [
    "%%sql\n",
    "WITH \n",
    "protected_status_applied AS\n",
    "(\n",
    "    SELECT \n",
    "        il.track_id,\n",
    "        ps.status\n",
    "    FROM invoice_line AS il\n",
    "    INNER JOIN track AS t on t.track_id=il.track_id\n",
    "    INNER JOIN protected_status AS ps ON ps.media_type_id=t.media_type_id\n",
    ")\n",
    "\n",
    "SELECT \n",
    "    status,\n",
    "    COUNT(*) AS count,\n",
    "    ROUND(CAST(COUNT(*) AS FLOAT)*100\n",
    "          / (SELECT COUNT(*) FROM protected_status_applied)\n",
    "          ,0) AS 'percentage_sold_based_on_media_type'\n",
    "\n",
    "FROM protected_status_applied AS psa\n",
    "GROUP BY status"
   ]
  },
  {
   "cell_type": "markdown",
   "metadata": {},
   "source": [
    "Yes, popularity is affected by media type. 91% of sale is of unprotected media."
   ]
  },
  {
   "cell_type": "code",
   "execution_count": null,
   "metadata": {},
   "outputs": [],
   "source": []
  }
 ],
 "metadata": {
  "kernelspec": {
   "display_name": "Python 3",
   "language": "python",
   "name": "python3"
  },
  "language_info": {
   "codemirror_mode": {
    "name": "ipython",
    "version": 3
   },
   "file_extension": ".py",
   "mimetype": "text/x-python",
   "name": "python",
   "nbconvert_exporter": "python",
   "pygments_lexer": "ipython3",
   "version": "3.7.6"
  }
 },
 "nbformat": 4,
 "nbformat_minor": 4
}
