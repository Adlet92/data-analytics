{
 "cells": [
  {
   "cell_type": "markdown",
   "metadata": {},
   "source": [
    "# Hacker News site analysis"
   ]
  },
  {
   "cell_type": "markdown",
   "metadata": {},
   "source": [
    "In this project, we'll work with a dataset of submissions to popular technology site Hacker News.\n",
    "<br>\n",
    "<br>\n",
    "Hacker News is a site started by the startup incubator Y Combinator, where user-submitted stories (known as \"posts\") receive votes and comments, similar to reddit. Hacker News is extremely popular in technology and startup circles, and posts that make it to the top of the Hacker News listings can get hundreds of thousands of visitors as a result.\n",
    "<br>\n",
    "<br>\n",
    "In this project, I will be exploring a cleaned dataset of Hacker News post data to answer two main research questions about post questions (<strong>ask hn</strong>) and feedback (<strong>show hn</strong>) posts:\n",
    "\n",
    "- Which category elicits the most commentary and feedback?\n",
    "- When is the best time of day to post ask hn and show hn items?\n"
   ]
  },
  {
   "cell_type": "markdown",
   "metadata": {},
   "source": [
    "Let's start with reading the data"
   ]
  },
  {
   "cell_type": "code",
   "execution_count": 7,
   "metadata": {},
   "outputs": [
    {
     "name": "stdout",
     "output_type": "stream",
     "text": [
      "['id', 'title', 'url', 'num_points', 'num_comments', 'author', 'created_at']\n",
      "[['12579008', 'You have two days to comment if you want stem cells to be classified as your own', 'http://www.regulations.gov/document?D=FDA-2015-D-3719-0018', '1', '0', 'altstar', '9/26/2016 3:26'], ['12579005', 'SQLAR  the SQLite Archiver', 'https://www.sqlite.org/sqlar/doc/trunk/README.md', '1', '0', 'blacksqr', '9/26/2016 3:24'], ['12578997', 'What if we just printed a flatscreen television on the side of our boxes?', 'https://medium.com/vanmoof/our-secrets-out-f21c1f03fdc8#.ietxmez43', '1', '0', 'pavel_lishin', '9/26/2016 3:19'], ['12578989', 'algorithmic music', 'http://cacm.acm.org/magazines/2011/7/109891-algorithmic-composition/fulltext', '1', '0', 'poindontcare', '9/26/2016 3:16'], ['12578979', 'How the Data Vault Enables the Next-Gen Data Warehouse and Data Lake', 'https://www.talend.com/blog/2016/05/12/talend-and-Ã\\x82Â\\x93the-data-vaultÃ\\x82Â\\x94', '1', '0', 'markgainor1', '9/26/2016 3:14']]\n"
     ]
    }
   ],
   "source": [
    "import datetime as dt\n",
    "from csv import reader\n",
    "opened_file = open('C:/Users/Пользователь/Desktop/data science/dataquest/projects/project python for data science interm/HN.csv', encoding='Latin-1')\n",
    "read_file = reader(opened_file)\n",
    "hn = list(read_file)\n",
    "headers = hn[0]\n",
    "hn = hn[1:]\n",
    "print(headers)\n",
    "print(hn[:5])"
   ]
  },
  {
   "cell_type": "markdown",
   "metadata": {},
   "source": [
    "Below are descriptions of the columns:\n",
    "    \n",
    "**id:** the unique identifier from Hacker News for the post\n",
    "<br>\n",
    "**title:** the title of the post\n",
    "<br>\n",
    "**url:** the URL that the posts links to, if the post has a URL\n",
    "<br>\n",
    "**num_points:** the number of points the post acquired, calculated as the total number of upvotes minus the total number of downvotes\n",
    "<br>\n",
    "**num_comments:** the number of comments on the post\n",
    "<br>\n",
    "**author:** the username of the person who submitted the post\n",
    "<br>\n",
    "**created_at:** the date and time of the post's submission"
   ]
  },
  {
   "cell_type": "markdown",
   "metadata": {},
   "source": [
    "Now let's categorize the posts into three categories - ask_posts, show_posts, and other_posts. These categories will help us see which types of posts are more common."
   ]
  },
  {
   "cell_type": "code",
   "execution_count": 8,
   "metadata": {},
   "outputs": [],
   "source": [
    "ask_posts = []\n",
    "show_posts = []\n",
    "other_posts = []\n",
    "for row in hn:\n",
    "    title = row[1].lower()\n",
    "    if title.startswith('ask hn'):\n",
    "        ask_posts.append(row)\n",
    "    elif title.startswith('show hn'):\n",
    "        show_posts.append(row)\n",
    "    else:\n",
    "        other_posts.append(row)\n",
    "        "
   ]
  },
  {
   "cell_type": "code",
   "execution_count": 9,
   "metadata": {},
   "outputs": [
    {
     "name": "stdout",
     "output_type": "stream",
     "text": [
      "number of ask hn posts:  9139\n",
      "number of show hn posts:  10158\n",
      "number of other posts:  273822\n",
      "check:  True\n"
     ]
    }
   ],
   "source": [
    "### display number of posts by category\n",
    "print(\"number of ask hn posts: \", len(ask_posts))\n",
    "print(\"number of show hn posts: \", len(show_posts))\n",
    "print(\"number of other posts: \", len(other_posts))\n",
    "print(\"check: \", len(hn) == len(ask_posts) + len(show_posts) + len(other_posts))"
   ]
  },
  {
   "cell_type": "markdown",
   "metadata": {},
   "source": [
    "Now let's see which category drives more comments. To do this we need to calculate the average number of comments by category."
   ]
  },
  {
   "cell_type": "code",
   "execution_count": 10,
   "metadata": {},
   "outputs": [
    {
     "name": "stdout",
     "output_type": "stream",
     "text": [
      "10.393478498741656\n"
     ]
    }
   ],
   "source": [
    "total_ask_comments = 0\n",
    "for i in ask_posts:\n",
    "    num_comments = int(i[4])\n",
    "    total_ask_comments += num_comments\n",
    "avg_ask_comments = total_ask_comments / len(ask_posts)"
   ]
  },
  {
   "cell_type": "code",
   "execution_count": 11,
   "metadata": {},
   "outputs": [
    {
     "name": "stdout",
     "output_type": "stream",
     "text": [
      "4.886099625910612\n"
     ]
    }
   ],
   "source": [
    "total_show_comments = 0\n",
    "for i in show_posts:\n",
    "    num_comments = int(i[4])\n",
    "    total_show_comments += num_comments\n",
    "avg_show_comments = total_show_comments / len(show_posts)"
   ]
  },
  {
   "cell_type": "code",
   "execution_count": 12,
   "metadata": {},
   "outputs": [
    {
     "name": "stdout",
     "output_type": "stream",
     "text": [
      "average number of comments for ask hn posts:  10.39\n",
      "average number of comments for show hn posts:  4.89\n"
     ]
    }
   ],
   "source": [
    "template = \"average number of comments for {name}: {avg: ,.2f}\"\n",
    "\n",
    "print(template.format(name = \"ask hn posts\", avg = avg_ask_comments))\n",
    "print(template.format(name = \"show hn posts\", avg = avg_show_comments))"
   ]
  },
  {
   "cell_type": "markdown",
   "metadata": {},
   "source": [
    "So we've determined that, on average ask posts received more comments show posts. Since ask posts are more likely to receive comments, we'll focus our remaining analysis just on these posts.\n",
    "<br>\n",
    "<br>\n",
    "Next, we'll determine if ask posts created at a certain time are more likely to attract comments. To do this, we need to calculate the amount of <strong>ask hn</strong> posts created by hour of the day along with the comments received. Then we will calculate the average number of comments ask hn posts receive by hour created"
   ]
  },
  {
   "cell_type": "code",
   "execution_count": 13,
   "metadata": {},
   "outputs": [],
   "source": [
    "result_list = []\n",
    "for i in ask_posts:\n",
    "    created_at = i[6]\n",
    "    comments = int(i[4])\n",
    "    result_list.append((created_at, comments))\n",
    "    \n",
    "counts_by_hour = {}\n",
    "comments_by_hour = {}\n",
    "date_format = '%m/%d/%Y %H:%M'\n",
    "for i in result_list:\n",
    "    date = i[0]\n",
    "    comment = i[1]\n",
    "    date = dt.datetime.strptime(date, date_format)\n",
    "    hour = date.strftime('%H')\n",
    "    if hour not in counts_by_hour:\n",
    "        counts_by_hour[hour] = 1\n",
    "        comments_by_hour[hour] = comment\n",
    "    else:\n",
    "        counts_by_hour[hour] += 1\n",
    "        comments_by_hour[hour] += comment\n",
    "    "
   ]
  },
  {
   "cell_type": "code",
   "execution_count": 14,
   "metadata": {},
   "outputs": [
    {
     "name": "stdout",
     "output_type": "stream",
     "text": [
      "[['02', 11.137546468401487], ['01', 7.407801418439717], ['22', 8.804177545691905], ['21', 8.687258687258687], ['19', 7.163043478260869], ['17', 9.449744463373083], ['15', 28.676470588235293], ['14', 9.692007797270955], ['13', 16.31756756756757], ['11', 8.96474358974359], ['10', 10.684397163120567], ['09', 6.653153153153153], ['07', 7.013274336283186], ['03', 7.948339483394834], ['23', 6.696793002915452], ['20', 8.749019607843136], ['16', 7.713298791018998], ['08', 9.190661478599221], ['00', 7.5647840531561465], ['18', 7.94299674267101], ['12', 12.380116959064328], ['04', 9.7119341563786], ['06', 6.782051282051282], ['05', 8.794258373205741]]\n"
     ]
    }
   ],
   "source": [
    "avg_by_hour = []\n",
    "for hour in counts_by_hour:\n",
    "    avg = comments_by_hour[hour]/counts_by_hour[hour]\n",
    "    avg_by_hour.append([hour, avg])\n",
    "print(avg_by_hour)   "
   ]
  },
  {
   "cell_type": "markdown",
   "metadata": {},
   "source": [
    "Although we now have the results we need, this format makes it difficult to identify the hours with the highest values. Let's finish by sorting the list of lists and printing <strong>the five highest values</strong> in a format that's easier to read."
   ]
  },
  {
   "cell_type": "code",
   "execution_count": 16,
   "metadata": {},
   "outputs": [
    {
     "name": "stdout",
     "output_type": "stream",
     "text": [
      "15:00 28.68 average comments per post\n",
      "13:00 16.32 average comments per post\n",
      "12:00 12.38 average comments per post\n",
      "02:00 11.14 average comments per post\n",
      "10:00 10.68 average comments per post\n"
     ]
    }
   ],
   "source": [
    "swap_avg_by_hour = []\n",
    "for i in avg_by_hour:\n",
    "    swap_avg_by_hour.append([i[1], i[0]])\n",
    "sorted_swap = sorted(swap_avg_by_hour, reverse=True)\n",
    "\n",
    "for row in sorted_swap[:5]:\n",
    "    hour_form = dt.datetime.strptime(str(row[1]), \"%H\")\n",
    "    hour_form = hour_form.strftime(\"%H:%M\")\n",
    "    print(hour_form,'{:.2f}'.format(row[0]),'average comments per post')\n",
    "    "
   ]
  },
  {
   "cell_type": "markdown",
   "metadata": {},
   "source": [
    "# Conclusions"
   ]
  },
  {
   "cell_type": "markdown",
   "metadata": {},
   "source": [
    "It appears that 3pm is the best time to post questions on Hacker News."
   ]
  },
  {
   "cell_type": "code",
   "execution_count": null,
   "metadata": {},
   "outputs": [],
   "source": []
  }
 ],
 "metadata": {
  "kernelspec": {
   "display_name": "Python 3",
   "language": "python",
   "name": "python3"
  },
  "language_info": {
   "codemirror_mode": {
    "name": "ipython",
    "version": 3
   },
   "file_extension": ".py",
   "mimetype": "text/x-python",
   "name": "python",
   "nbconvert_exporter": "python",
   "pygments_lexer": "ipython3",
   "version": "3.7.6"
  }
 },
 "nbformat": 4,
 "nbformat_minor": 4
}
